{
 "cells": [
  {
   "cell_type": "code",
   "execution_count": 1,
   "metadata": {},
   "outputs": [],
   "source": [
    "#import des différente library qui seront utilisé par la suite\n",
    "import numpy as np\n",
    "import pandas as pd"
   ]
  },
  {
   "cell_type": "code",
   "execution_count": 4,
   "metadata": {},
   "outputs": [],
   "source": [
    "#transformation en dataframe du fichier csv de départ\n",
    "df_communes = pd.read_csv(\"communes.csv\", ';')"
   ]
  },
  {
   "cell_type": "code",
   "execution_count": 5,
   "metadata": {},
   "outputs": [
    {
     "data": {
      "text/plain": [
       "<bound method NDFrame.head of        Code région Nom de la région Code département  Code arrondissement  \\\n",
       "0               82      Rhône-Alpes               01                    2   \n",
       "1               82      Rhône-Alpes               01                    1   \n",
       "2               82      Rhône-Alpes               01                    1   \n",
       "3               82      Rhône-Alpes               01                    2   \n",
       "4               82      Rhône-Alpes               01                    1   \n",
       "...            ...              ...              ...                  ...   \n",
       "36678            4       La Réunion              974                    3   \n",
       "36679            4       La Réunion              974                    1   \n",
       "36680            4       La Réunion              974                    3   \n",
       "36681            4       La Réunion              974                    2   \n",
       "36682            4       La Réunion              974                    4   \n",
       "\n",
       "       Code canton  Code commune         Nom de la commune  \\\n",
       "0              8.0             1  L' Abergement-Clémenciat   \n",
       "1              1.0             2    L' Abergement-de-Varey   \n",
       "2              1.0             4         Ambérieu-en-Bugey   \n",
       "3             22.0             5       Ambérieux-en-Dombes   \n",
       "4              4.0             6                   Ambléon   \n",
       "...            ...           ...                       ...   \n",
       "36678          8.0           419               Sainte-Rose   \n",
       "36679          4.0           420            Sainte-Suzanne   \n",
       "36680          6.0           421                   Salazie   \n",
       "36681         99.0           422                 Le Tampon   \n",
       "36682         14.0           423         Les Trois-Bassins   \n",
       "\n",
       "      Population municipale Population comptée à part Population totale  \n",
       "0                       767                        13               780  \n",
       "1                       236                         4               240  \n",
       "2                    14 359                       529            14 888  \n",
       "3                     1 635                        31             1 666  \n",
       "4                       108                         6               114  \n",
       "...                     ...                       ...               ...  \n",
       "36678                 6 782                        85             6 867  \n",
       "36679                22 209                       196            22 405  \n",
       "36680                 7 226                       109             7 335  \n",
       "36681                76 090                       927            77 017  \n",
       "36682                 7 268                        95             7 363  \n",
       "\n",
       "[36683 rows x 10 columns]>"
      ]
     },
     "execution_count": 5,
     "metadata": {},
     "output_type": "execute_result"
    }
   ],
   "source": [
    "#premiere visualisation du jeu de donnée\n",
    "df_communes.head"
   ]
  },
  {
   "cell_type": "code",
   "execution_count": null,
   "metadata": {},
   "outputs": [],
   "source": []
  }
 ],
 "metadata": {
  "kernelspec": {
   "display_name": "Python 3",
   "language": "python",
   "name": "python3"
  },
  "language_info": {
   "codemirror_mode": {
    "name": "ipython",
    "version": 3
   },
   "file_extension": ".py",
   "mimetype": "text/x-python",
   "name": "python",
   "nbconvert_exporter": "python",
   "pygments_lexer": "ipython3",
   "version": "3.7.6"
  }
 },
 "nbformat": 4,
 "nbformat_minor": 4
}
